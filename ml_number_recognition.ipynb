{
 "cells": [
  {
   "cell_type": "markdown",
   "metadata": {},
   "source": [
    "# Handgeschriebene Zahlen erkennen\n",
    "\n",
    "Ein StartUp-Unternehmen hat sich vorgenommen, eine App zu entwickeln, die die Bedienung des Taschenrechners in Ihrem Tablet vereinfachen soll: anstatt die Zahlen und Zeichen mit dem Keyboard einzutippen, soll der Benutzer die Möglichkeit haben, direkt mit dem Touchpad oder Digi-Pencil Rechnungen aufzuschreiben, die die App verstehen und deren Ergebnisse berechnen können soll.\n",
    "\n",
    "Das Management hat sich darauf geeinigt, in einem ersten Anlauf, sozusagen als *Minimal Viable Product*, nur zu versuchen, die Ziffern $0-9$ von der App erkennen zu lassen und die sonstigen Zeichen ($+, -, \\sqrt{}, \\cdot, \\div $ usw.) zunächst außen vor zu lassen.\n",
    "\n",
    "In einem Feldversuch wurden die Benutzer der App aufgefordert, mit dem Touchpad die Ziffern $0-9$ aufzumalen und die resultierenden Bilder wurden in einem Datensatz gespeichert. Einige Beispielbilder sehen Sie hier:\n",
    "\n",
    "<p float=\"left\">\n",
    "<img src=\"./assets/example_digit_1.png\" width=\"100\" />\n",
    "<img src=\"./assets/example_digit_2.png\" width=\"100\" />\n",
    "<img src=\"./assets/example_digit_3.png\" width=\"100\" />\n",
    "<img src=\"./assets/example_digit_4.png\" width=\"100\" />\n",
    "<img src=\"./assets/example_digit_5.png\" width=\"100\" />\n",
    "<img src=\"./assets/example_digit_6.png\" width=\"100\" />\n",
    "<img src=\"./assets/example_digit_7.png\" width=\"100\" />\n",
    "</p>\n",
    "\n",
    "Insgesamt hat der Kunde $10000$ dieser Bilder gesammelt. Für jedes dieser Bilder ist dem Kunden bereits bekannt, welche Zahl darin zu sehen ist, aber diese Information wird Ihnen nicht mitgeteilt. Stattdessen will das Unternehmen anhand dieser $10000$ Bilder testen, ob das Programm, dass Sie entwerfen, tatsächlich funktioniert.\n",
    "\n",
    "Sie überlegen sich, dass für diese Aufgabe ein *Machine Learning* Modell in Frage kommt. Tatsächlich hat das Unternehmen von den Nutzern noch weitere $20000$ Bilder von handgeschriebenen Ziffern gesammelt. Diese sind von den $10000$ Test-Bildern verschieden. Für diese neuen $20000$ Bilder haben Sie aber Zugriff auf die Information, um welche Ziffer es sich jeweils handelt.\n",
    "\n",
    "\n",
    "## Fragestellung\n",
    "\n",
    "## Wie lassen sich die $20000$ Bilder zusammen mit der Information, welche Ziffern sie jeweils darstellen, nutzen, um ein Programm zu schreiben, dass auch die unbekannten $10000$ Test-Bilder richtig erkennt?\n",
    "\n",
    "## Schreiben Sie ein Programm, dass zu jedem der $10000$ Test-Bilder eine Zahl ausgibt - die Ziffer, die in dem Bild zu erkennen ist."
   ]
  },
  {
   "cell_type": "markdown",
   "metadata": {},
   "source": [
    "# Imports"
   ]
  },
  {
   "cell_type": "code",
   "execution_count": 15,
   "metadata": {},
   "outputs": [],
   "source": [
    "# Imports\n",
    "from sklearn.pipeline import Pipeline, make_pipeline\n",
    "from sklearn.model_selection import train_test_split, GridSearchCV\n",
    "from sklearn.ensemble import RandomForestClassifier, GradientBoostingClassifier\n",
    "from sklearn.tree import DecisionTreeClassifier\n",
    "from sklearn.tree import plot_tree\n",
    "from sklearn.linear_model import LogisticRegression\n",
    "from sklearn.svm import SVC\n",
    "from sklearn.metrics import accuracy_score\n",
    "from sklearn.metrics import confusion_matrix\n",
    "import timeit\n",
    "\n",
    "import PIL\n",
    "from PIL import Image\n",
    "import numpy as np\n",
    "import glob\n",
    "import pandas as pd\n",
    "import matplotlib.pyplot as plt\n",
    "\n",
    "# check Pillow version number\n",
    "# print('Pillow Version:', PIL.__version__)"
   ]
  },
  {
   "cell_type": "code",
   "execution_count": 2,
   "metadata": {},
   "outputs": [],
   "source": [
    "# Check Operating system\n",
    "import os\n",
    "#os.getcwd()"
   ]
  },
  {
   "cell_type": "markdown",
   "metadata": {},
   "source": [
    "## 1. Daten herunterladen und bereitstellen\n",
    "\n",
    "Zuallerst müssen Sie die Daten für die folgende Aufgabe finden und herunterladen. Diese befinden sich im Datenaustausch.\n",
    "\n",
    "Wie Sie die Daten in diesem Jupyter-Notebook verfügbar machen, hängt davon ab, ob Sie das Notebook lokal oder in Google Colab ausführen.\n",
    "\n",
    "Falls Sie das Notebook lokal ausführen, haben Sie zunächst nichts weiter zu tun. Platzieren Sie die heruntergeladene Datei in einem Ordner Ihrer Wahl und entpacken Sie sie, falls es sich um eine ZIP-Datei handelt.\n",
    "\n",
    "Falls Sie das Notebook in Google Colab ausführen, müssen Sie die Daten für das Notebook in der Cloud zugänglich machen - das Notebook hat keinen Zugriff auf Ihre lokalen Dateien. Folgen Sie diesem Link für zusätzliche Tipps zum Hochladen von Daten in Google Colab: https://towardsdatascience.com/importing-data-to-google-colab-the-clean-way-5ceef9e9e3c8. "
   ]
  },
  {
   "cell_type": "markdown",
   "metadata": {},
   "source": [
    "## Daten sichten und kennenlernen\n",
    "\n",
    "Zunächst sollten Sie die Daten kennenlernen und verstehen.\n",
    "\n",
    "Die Daten haben folgende Ordnerstruktur\n",
    "\n",
    "```\n",
    "challenge3\n",
    "│   train_labels.csv \n",
    "│\n",
    "└───test\n",
    "│   │   10028.png\n",
    "│   │   10046.png\n",
    "│   │   ...\n",
    "│   |   99992.png\n",
    "│ \n",
    "└───train\n",
    "    │   10000.png\n",
    "    │   10002.png\n",
    "    |   ...\n",
    "    |   99999.png\n",
    "```\n",
    "\n",
    "Alle Bilddateien haben die Endung `.png` und haben eine Auflösung von `28px x 28px`. Im Ordner `test` gibt es $10000$ dieser Dateien. Im Ordner `train` sind es $20000$.\n",
    "\n",
    "Die Datei `train_labels.csv` enthält die Information, welche Ziffer jeweils in den Bildern des Ordners `train` dargestellt ist. Dazu ist in jeder Zeile der Datei zunächst der Dateiname des entsprechenden Bildes (z.B. `97678.png`) und dann die entsprechende Ziffer angegeben."
   ]
  },
  {
   "cell_type": "markdown",
   "metadata": {},
   "source": [
    "### Daten laden"
   ]
  },
  {
   "cell_type": "code",
   "execution_count": 3,
   "metadata": {},
   "outputs": [],
   "source": [
    "import pandas as pd\n",
    "data_path = \"./data/challenge3/\"\n",
    "\n",
    "labels = pd.read_csv(data_path + 'train_labels.csv', header=None)\n",
    "train_labels = pd.read_csv(data_path + 'train_labels.csv', index_col=0, header=None)\n",
    "train_labels = train_labels.iloc[:, 0].to_dict()\n",
    "\n",
    "test_labels = pd.read_csv(data_path + 'test_labels.csv', index_col=0, header=None)\n",
    "test_labels = test_labels.iloc[:, 0].to_dict()"
   ]
  },
  {
   "cell_type": "code",
   "execution_count": 4,
   "metadata": {},
   "outputs": [],
   "source": [
    "# Trainingsdaten importieren\n",
    "images = []\n",
    "y_train = []\n",
    "\n",
    "for filename in glob.glob(data_path + \"train/*.png\"):\n",
    "    im = Image.open(filename)\n",
    "    im = im.convert(\"L\")\n",
    "    im = np.array(im) / 255.\n",
    "    images.append(im)\n",
    "    y_train.append(train_labels[os.path.basename(filename)])\n",
    "\n",
    "y_train = np.array(y_train)\n",
    "X_train = np.array(images)\n",
    "# X_train = np.reshape(X_train, (20000*784))\n",
    "X_train = X_train.reshape(X_train.shape[0], -1)"
   ]
  },
  {
   "cell_type": "code",
   "execution_count": 5,
   "metadata": {},
   "outputs": [],
   "source": [
    "# Testdaten importieren\n",
    "test_images = []\n",
    "y_test = []\n",
    "\n",
    "for filename in glob.glob(data_path + \"test/*.png\"):\n",
    "    im = Image.open(filename)\n",
    "    im = im.convert(\"L\")\n",
    "    im = np.array(im) / 255.\n",
    "    test_images.append(im)\n",
    "    y_test.append(test_labels[os.path.basename(filename)])\n",
    "\n",
    "y_test = np.array(y_train)\n",
    "X_test = np.array(images)\n",
    "X_test = X_test.reshape(X_test.shape[0], -1)"
   ]
  },
  {
   "cell_type": "markdown",
   "metadata": {},
   "source": [
    "### Daten sichten\n",
    "\n",
    "Welche Analysen könnte man auf den Daten ausführen?\n",
    "\n",
    "Wie könnte man die Daten visualieren?"
   ]
  },
  {
   "cell_type": "code",
   "execution_count": 6,
   "metadata": {
    "scrolled": false
   },
   "outputs": [
    {
     "data": {
      "image/png": "[encoded data removed]",
      "text/plain": [
       "<Figure size 720x720 with 25 Axes>"
      ]
     },
     "metadata": {
      "needs_background": "light"
     },
     "output_type": "display_data"
    }
   ],
   "source": [
    "# Visualisierung\n",
    "fig, axes = plt.subplots(5, 5, figsize=(10, 10))\n",
    "for ax in axes.flatten():\n",
    "    i = np.random.randint(0, len(X_train))\n",
    "    image = X_train[i, :]\n",
    "    image = image.reshape(28, 28)\n",
    "    ax.imshow(image, cmap=\"Greys\")\n",
    "    ax.axis(\"off\")"
   ]
  },
  {
   "cell_type": "markdown",
   "metadata": {},
   "source": [
    "## Das Machine Learning Modell\n",
    "\n",
    "Wie könnte ein Programm aussehen, dass die Daten in `train_labels.csv` und die Bilder im Ordner `train` nutzt,\n",
    "um vorherzusagen, welche Ziffern in den Bilder im Ordner `test` zu sehen sind?"
   ]
  },
  {
   "cell_type": "markdown",
   "metadata": {},
   "source": [
    "### Lineare Regression"
   ]
  },
  {
   "cell_type": "code",
   "execution_count": 7,
   "metadata": {},
   "outputs": [
    {
     "data": {
      "text/plain": [
       "LogisticRegression(C=0.001, max_iter=1000)"
      ]
     },
     "execution_count": 7,
     "metadata": {},
     "output_type": "execute_result"
    }
   ],
   "source": [
    "model = LogisticRegression(C=0.001, max_iter=1000, solver=\"lbfgs\")\n",
    "model.fit(X_train, y_train)"
   ]
  },
  {
   "cell_type": "code",
   "execution_count": 8,
   "metadata": {},
   "outputs": [
    {
     "data": {
      "text/plain": [
       "(10, 784)"
      ]
     },
     "execution_count": 8,
     "metadata": {},
     "output_type": "execute_result"
    }
   ],
   "source": [
    "# die Gewichte haben die gleiche Shape wie die Trainingsbilder\n",
    "model.coef_.shape"
   ]
  },
  {
   "cell_type": "code",
   "execution_count": 9,
   "metadata": {},
   "outputs": [
    {
     "data": {
      "image/png": "[encoded data removed]",
      "text/plain": [
       "<Figure size 1440x576 with 10 Axes>"
      ]
     },
     "metadata": {
      "needs_background": "light"
     },
     "output_type": "display_data"
    }
   ],
   "source": [
    "fig, axes = plt.subplots(2, 5, figsize=(20, 8))\n",
    "\n",
    "for i, ax in enumerate(axes.flatten()):\n",
    "    coef_image = model.coef_[i, :]\n",
    "    coef_image = coef_image.reshape(28, 28)\n",
    "    ax.imshow(coef_image, cmap=\"Greys_r\")\n",
    "    ax.axis(\"off\")"
   ]
  },
  {
   "cell_type": "markdown",
   "metadata": {},
   "source": [
    "## Validierung"
   ]
  },
  {
   "cell_type": "code",
   "execution_count": 13,
   "metadata": {},
   "outputs": [
    {
     "data": {
      "text/plain": [
       "0.8758"
      ]
     },
     "execution_count": 13,
     "metadata": {},
     "output_type": "execute_result"
    }
   ],
   "source": [
    "# Prediction of the test data\n",
    "y_pred = model.predict(X_test)\n",
    "\n",
    "accuracy = accuracy_score(y_test, y_pred)\n",
    "accuracy"
   ]
  },
  {
   "cell_type": "code",
   "execution_count": 16,
   "metadata": {
    "scrolled": false
   },
   "outputs": [
    {
     "data": {
      "image/png": "[encoded data removed]",
      "text/plain": [
       "<Figure size 720x720 with 1 Axes>"
      ]
     },
     "metadata": {
      "needs_background": "light"
     },
     "output_type": "display_data"
    }
   ],
   "source": [
    "import seaborn as sns\n",
    "\n",
    "cm = confusion_matrix(y_test, y_pred)\n",
    "\n",
    "plt.figure(figsize=(10, 10))\n",
    "sns.heatmap(cm.T, square=True, annot=True, fmt='d', cbar=False) #, cmap=\"hot_r\")\n",
    "plt.xticks(fontsize=16)\n",
    "plt.yticks(fontsize=16)\n",
    "plt.xlabel('true label', fontsize=16)\n",
    "plt.ylabel('predicted label', fontsize=16);"
   ]
  },
  {
   "cell_type": "markdown",
   "metadata": {},
   "source": [
    "## Decision Tree"
   ]
  },
  {
   "cell_type": "code",
   "execution_count": 17,
   "metadata": {},
   "outputs": [
    {
     "data": {
      "image/png": "[encoded data removed]",
      "text/plain": [
       "<Figure size 720x720 with 1 Axes>"
      ]
     },
     "metadata": {
      "needs_background": "light"
     },
     "output_type": "display_data"
    }
   ],
   "source": [
    "# initiating tree\n",
    "tree = DecisionTreeClassifier(max_depth=3)\n",
    "\n",
    "# fitting tree\n",
    "tree.fit(X_train, y_train)\n",
    "\n",
    "# Decision Tree plotten\n",
    "plt.figure(figsize=(10,10))\n",
    "plot_tree(tree);"
   ]
  },
  {
   "cell_type": "code",
   "execution_count": 18,
   "metadata": {},
   "outputs": [
    {
     "name": "stdout",
     "output_type": "stream",
     "text": [
      "Decision Tree mit depth = 3:\n",
      "\n",
      "Test score:  0.46555\n",
      "Train score:  0.46555\n",
      "Absolute Error:  1.94825\n",
      "Quadratic Error:  8.80835\n",
      "Root mean squared error:  2.967886453353632\n"
     ]
    }
   ],
   "source": [
    "\"\"\" Tree Evaluation\"\"\"\n",
    "print(\"Decision Tree mit depth = 3:\")\n",
    "print(\"\")\n",
    "print(\"Test score: \", tree.score(X_test, y_test))\n",
    "print(\"Train score: \", tree.score(X_train, y_train))\n",
    "\n",
    "y_pred_tree = tree.predict(X_test)\n",
    "\n",
    "quadratic_error = np.mean((y_test - y_pred_tree)**2)\n",
    "absolute_error = np.mean(np.abs(y_test - y_pred_tree))\n",
    "\n",
    "print(\"Absolute Error: \", absolute_error)\n",
    "print(\"Quadratic Error: \", quadratic_error)\n",
    "print(\"Root mean squared error: \", np.sqrt(quadratic_error))"
   ]
  },
  {
   "cell_type": "markdown",
   "metadata": {},
   "source": [
    "### Decision Tree Tiefe testen"
   ]
  },
  {
   "cell_type": "code",
   "execution_count": 19,
   "metadata": {},
   "outputs": [
    {
     "name": "stdout",
     "output_type": "stream",
     "text": [
      "Bester Testfehler bei Max_depth = 19: Trainfehler: 0.99505, Testfehler: 0.99505\n"
     ]
    }
   ],
   "source": [
    "depths = np.arange(1,20)\n",
    "train_error = []\n",
    "test_error = []\n",
    "\n",
    "for depth in depths:\n",
    "    tree = DecisionTreeClassifier(max_depth = depth)\n",
    "    tree.fit(X_train,y_train)\n",
    "    train_error.append(tree.score(X_train, y_train))\n",
    "    test_error.append(tree.score(X_test, y_test))\n",
    "\n",
    "print(f\"Bester Testfehler bei Max_depth = {test_error.index(max(test_error))+1}: Trainfehler: {train_error[test_error.index(max(test_error))]}, Testfehler: {max(test_error)}\")"
   ]
  },
  {
   "cell_type": "markdown",
   "metadata": {},
   "source": [
    "### Ergebnis testen"
   ]
  },
  {
   "cell_type": "code",
   "execution_count": 20,
   "metadata": {},
   "outputs": [
    {
     "name": "stdout",
     "output_type": "stream",
     "text": [
      "Decision Tree mit depth = 33:\n",
      "\n",
      "Test score:  1.0\n",
      "Train score:  1.0\n",
      "Absolute Error:  0.0\n",
      "Quadratic Error:  0.0\n",
      "Root mean squared error:  0.0\n"
     ]
    }
   ],
   "source": [
    "# initiating tree\n",
    "tree_33 = DecisionTreeClassifier(max_depth=33)\n",
    "\n",
    "# fitting tree\n",
    "tree_33.fit(X_train, y_train)\n",
    "\n",
    "\"\"\" Tree Evaluation\"\"\"\n",
    "print(\"Decision Tree mit depth = 33:\")\n",
    "print(\"\")\n",
    "print(\"Test score: \", tree_33.score(X_test, y_test))\n",
    "print(\"Train score: \", tree_33.score(X_train, y_train))\n",
    "\n",
    "y_pred_tree_33 = tree_33.predict(X_test)\n",
    "\n",
    "quadratic_error = np.mean((y_test - y_pred_tree_33)**2)\n",
    "absolute_error = np.mean(np.abs(y_test - y_pred_tree_33))\n",
    "\n",
    "print(\"Absolute Error: \", absolute_error)\n",
    "print(\"Quadratic Error: \", quadratic_error)\n",
    "print(\"Root mean squared error: \", np.sqrt(quadratic_error))"
   ]
  },
  {
   "cell_type": "code",
   "execution_count": 21,
   "metadata": {},
   "outputs": [
    {
     "data": {
      "image/png": "[encoded data removed]",
      "text/plain": [
       "<Figure size 432x288 with 1 Axes>"
      ]
     },
     "metadata": {
      "needs_background": "light"
     },
     "output_type": "display_data"
    }
   ],
   "source": [
    "\"\"\"Print train and test score\"\"\"\n",
    "#Visualisierung Train-/Testfehler\n",
    "plt.plot(depths,train_error, label=\"Train Error\")\n",
    "plt.plot(depths,test_error, label=\"Test Error\")\n",
    "plt.scatter(test_error.index(max(test_error)),max(test_error), c= \"r\", label=\"Bester Testfehler\")\n",
    "plt.ylabel(\"R2 Error\")\n",
    "plt.xlabel(\"max_depth\")\n",
    "plt.legend()\n",
    "\n",
    "plt.title(\"Decision Tree Error Curve\");"
   ]
  },
  {
   "cell_type": "code",
   "execution_count": 22,
   "metadata": {},
   "outputs": [
    {
     "name": "stdout",
     "output_type": "stream",
     "text": [
      "Tiefe 2: \n",
      "Train Score:  0.196\n",
      "Test Score:  0.196\n",
      "\n",
      "Tiefe 3: \n",
      "Train Score:  0.3389\n",
      "Test Score:  0.3389\n",
      "\n",
      "Tiefe 4: \n",
      "Train Score:  0.46555\n",
      "Test Score:  0.46555\n",
      "\n",
      "Tiefe 5: \n",
      "Train Score:  0.63\n",
      "Test Score:  0.63\n",
      "\n",
      "Tiefe 6: \n",
      "Train Score:  0.6991\n",
      "Test Score:  0.6991\n",
      "\n",
      "Tiefe 7: \n",
      "Train Score:  0.74745\n",
      "Test Score:  0.74745\n",
      "\n",
      "Tiefe 8: \n",
      "Train Score:  0.80175\n",
      "Test Score:  0.80175\n",
      "\n",
      "Tiefe 9: \n",
      "Train Score:  0.84995\n",
      "Test Score:  0.84995\n",
      "\n",
      "Tiefe 10: \n",
      "Train Score:  0.8898\n",
      "Test Score:  0.8898\n",
      "\n",
      "Tiefe 11: \n",
      "Train Score:  0.9218\n",
      "Test Score:  0.9218\n",
      "\n",
      "Tiefe 12: \n",
      "Train Score:  0.94815\n",
      "Test Score:  0.94815\n",
      "\n",
      "Tiefe 13: \n",
      "Train Score:  0.9655\n",
      "Test Score:  0.9655\n",
      "\n",
      "Tiefe 14: \n",
      "Train Score:  0.97675\n",
      "Test Score:  0.97675\n",
      "\n",
      "Tiefe 15: \n",
      "Train Score:  0.98365\n",
      "Test Score:  0.98365\n",
      "\n",
      "Tiefe 16: \n",
      "Train Score:  0.9878\n",
      "Test Score:  0.9878\n",
      "\n",
      "Tiefe 17: \n",
      "Train Score:  0.9902\n",
      "Test Score:  0.9902\n",
      "\n",
      "Tiefe 18: \n",
      "Train Score:  0.9924\n",
      "Test Score:  0.9924\n",
      "\n",
      "Tiefe 19: \n",
      "Train Score:  0.9939\n",
      "Test Score:  0.9939\n",
      "\n",
      "Tiefe 20: \n",
      "Train Score:  0.99505\n",
      "Test Score:  0.99505\n",
      "\n"
     ]
    }
   ],
   "source": [
    "\"\"\" Print Depth\"\"\"\n",
    "depths = np.arange(1,20)\n",
    "\n",
    "for depth in depths:\n",
    "    tree = DecisionTreeClassifier(max_depth = depth)\n",
    "    tree.fit(X_train,y_train)\n",
    "    print(f\"Tiefe {depth + 1}: \")\n",
    "    print(\"Train Score: \", tree.score(X_train, y_train))\n",
    "    print(\"Test Score: \", tree.score(X_test, y_test))\n",
    "    print(\"\")\n",
    "\n",
    "#print(f\"Bester Testfehler bei Max_depth = {test_error.index(max(test_error))+1}: Trainfehler: {train_error[test_error.index(max(test_error))]}, Testfehler: {max(test_error)}\")"
   ]
  },
  {
   "cell_type": "markdown",
   "metadata": {},
   "source": [
    "## Random Forest"
   ]
  },
  {
   "cell_type": "code",
   "execution_count": 23,
   "metadata": {},
   "outputs": [],
   "source": [
    "X = X_train\n",
    "y = y_train"
   ]
  },
  {
   "cell_type": "code",
   "execution_count": 24,
   "metadata": {},
   "outputs": [
    {
     "name": "stdout",
     "output_type": "stream",
     "text": [
      "Model score: 100.0 %, calculated in 8.56 s\n"
     ]
    }
   ],
   "source": [
    "\n",
    "tic = timeit.default_timer()\n",
    "\n",
    "forest = Pipeline(\n",
    "  [('RandomForest', RandomForestClassifier()),]\n",
    ")\n",
    "\n",
    "#X_train, X_test, y_train, y_test= train_test_split(X, y)\n",
    "\n",
    "forest.fit(X_train, y_train)\n",
    "toc = timeit.default_timer()\n",
    "print(\"Model score: {:} %, calculated in {:.2f} s\".format(forest.score(X_test, y_test)*100,\n",
    "                                                          toc-tic))"
   ]
  },
  {
   "cell_type": "markdown",
   "metadata": {},
   "source": [
    "## NN"
   ]
  },
  {
   "cell_type": "code",
   "execution_count": 25,
   "metadata": {},
   "outputs": [],
   "source": [
    "import torch\n",
    "import torchvision\n",
    "import torchvision.transforms as transforms\n",
    "import torch.nn as nn\n",
    "import torch.nn.functional as F\n",
    "from torch.utils.data import TensorDataset, DataLoader\n",
    "import torch.optim as optim\n",
    "\n",
    "from sklearn import datasets, svm, metrics\n",
    "from sklearn.model_selection import train_test_split\n",
    "\n",
    "import numpy as np"
   ]
  },
  {
   "cell_type": "code",
   "execution_count": 27,
   "metadata": {},
   "outputs": [],
   "source": [
    "class SimpleNet(nn.Module):\n",
    "    def __init__(self, in_features=784):\n",
    "        # Konstruktor der Super-Klasse (hier nn.Module) aufrufen\n",
    "        super(SimpleNet, self).__init__()\n",
    "        \n",
    "        # Parameter/ Layer/ Architektur speichern\n",
    "        self.layer1 = nn.Linear(in_features=in_features, out_features=100)\n",
    "        self.layer2 = nn.Linear(in_features=100, out_features=100)\n",
    "        self.layer3 = nn.Linear(in_features=100, out_features=10)\n",
    "\n",
    "    def forward(self, x):\n",
    "        \"\"\" Diese Funktion definiert wie man für jeden Input einen Output generiert\"\"\"\n",
    "        # x is assumed to have shape [N_samples, in_features]  \n",
    "        x = self.layer1(x)\n",
    "        x = F.relu(x)\n",
    "        x = self.layer2(x)\n",
    "        x = F.relu(x)\n",
    "        x = self.layer3(x)\n",
    "        return x"
   ]
  },
  {
   "cell_type": "code",
   "execution_count": 28,
   "metadata": {},
   "outputs": [],
   "source": [
    "X_train_tensor = torch.from_numpy(X_train).float()\n",
    "y_train_tensor = torch.from_numpy(y_train).long()\n",
    "\n",
    "X_test_tensor = torch.from_numpy(X_test).float()\n",
    "y_test_tensor = torch.from_numpy(y_test).long()\n",
    "\n",
    "trainset = TensorDataset(X_train_tensor, y_train_tensor)\n",
    "trainloader = DataLoader(trainset, batch_size=32)\n",
    "\n",
    "testset = TensorDataset(X_test_tensor, y_test_tensor)\n",
    "testloader = DataLoader(testset, batch_size=1000)"
   ]
  },
  {
   "cell_type": "code",
   "execution_count": 29,
   "metadata": {},
   "outputs": [],
   "source": [
    "# Netzwerk instanziieren\n",
    "net = SimpleNet()\n",
    "\n",
    "# Verlustfunktion\n",
    "criterion = nn.CrossEntropyLoss()\n",
    "\n",
    "# Optimierer\n",
    "optimizer = optim.Adam(net.parameters(), lr=0.001)"
   ]
  },
  {
   "cell_type": "code",
   "execution_count": 30,
   "metadata": {},
   "outputs": [
    {
     "name": "stdout",
     "output_type": "stream",
     "text": [
      "[1,   100] loss: 1.882\n",
      "[1,   200] loss: 0.897\n",
      "[1,   300] loss: 0.641\n",
      "[1,   400] loss: 0.547\n",
      "[1,   500] loss: 0.477\n",
      "[1,   600] loss: 0.493\n",
      "[2,   100] loss: 0.474\n",
      "[2,   200] loss: 0.411\n",
      "[2,   300] loss: 0.418\n",
      "[2,   400] loss: 0.393\n",
      "[2,   500] loss: 0.368\n",
      "[2,   600] loss: 0.387\n",
      "[3,   100] loss: 0.387\n",
      "[3,   200] loss: 0.343\n",
      "[3,   300] loss: 0.360\n",
      "[3,   400] loss: 0.340\n",
      "[3,   500] loss: 0.315\n",
      "[3,   600] loss: 0.344\n",
      "[4,   100] loss: 0.329\n",
      "[4,   200] loss: 0.309\n",
      "[4,   300] loss: 0.327\n",
      "[4,   400] loss: 0.296\n",
      "[4,   500] loss: 0.276\n",
      "[4,   600] loss: 0.305\n",
      "[5,   100] loss: 0.289\n",
      "[5,   200] loss: 0.277\n",
      "[5,   300] loss: 0.296\n",
      "[5,   400] loss: 0.264\n",
      "[5,   500] loss: 0.252\n",
      "[5,   600] loss: 0.278\n",
      "Finished Training\n"
     ]
    }
   ],
   "source": [
    "for epoch in range(5):  # loop over the dataset multiple times\n",
    "\n",
    "    running_loss = 0.0\n",
    "\n",
    "    for i, batch in enumerate(trainloader, 0):\n",
    "        # get the inputs; data is a list of [inputs, labels]\n",
    "        inputs, labels = batch\n",
    "\n",
    "        # zero the parameter gradients\n",
    "        optimizer.zero_grad()\n",
    "\n",
    "        # forward + backward + optimize\n",
    "        # forward\n",
    "        outputs = net(inputs)\n",
    "        loss = criterion(outputs, labels)\n",
    "        \n",
    "        #backward\n",
    "        loss.backward()\n",
    "        # optimize\n",
    "        optimizer.step()\n",
    "\n",
    "        # print statistics\n",
    "        running_loss += loss.item()\n",
    "        if i % 100 == 99:    # print every 100 mini-batches\n",
    "            print('[%d, %5d] loss: %.3f' %\n",
    "                  (epoch + 1, i + 1, running_loss / 100))\n",
    "            running_loss = 0.0\n",
    "\n",
    "print('Finished Training')"
   ]
  },
  {
   "cell_type": "code",
   "execution_count": 31,
   "metadata": {},
   "outputs": [
    {
     "name": "stdout",
     "output_type": "stream",
     "text": [
      "Accuracy of the network on the 10000 test images: 92 %\n"
     ]
    }
   ],
   "source": [
    "correct = 0\n",
    "total = 0\n",
    "with torch.no_grad():\n",
    "    for data in testloader:\n",
    "        images, labels = data\n",
    "        outputs = net(images)\n",
    "        _, predicted = torch.max(outputs.data, 1)\n",
    "        total += labels.size(0)\n",
    "        correct += (predicted == labels).sum().item()\n",
    "\n",
    "print('Accuracy of the network on the 10000 test images: %d %%' % (\n",
    "    100 * correct / total))"
   ]
  },
  {
   "cell_type": "code",
   "execution_count": 65,
   "metadata": {},
   "outputs": [],
   "source": [
    "class ConvNet(nn.Module):\n",
    "    def __init__(self, in_features=784):\n",
    "        # Konstruktor der Super-Klasse (hier nn.Module) aufrufen\n",
    "        super(ConvNet, self).__init__()\n",
    "        \n",
    "        # Parameter/ Layer/ Architektur speichern\n",
    "        self.conv1 = nn.Conv2d(1, 6, 2) # likely 1 for only grey but 3 for RGB\n",
    "        self.pool = nn.MaxPool2d(2, 2)\n",
    "        self.conv2 = nn.Conv2d(6, 16, 2) # (in, out, kernel size)\n",
    "        self.conv3 = nn.Conv2d(16, 32, 2)\n",
    "        self.fc1 = nn.Linear(32 * 9 * 9, 120)\n",
    "        self.fc2 = nn.Linear(120, 84)\n",
    "        self.fc3 = nn.Linear(84, 10)\n",
    "        \n",
    "    def forward(self, x):\n",
    "        \"\"\" Diese Funktion definiert wie man für jeden Input einen Output generiert\"\"\"\n",
    "        # x is assumed to have shape [N_samples, in_features]  \n",
    "        x = self.pool(F.relu(self.conv1(x)))\n",
    "        x = self.pool(F.relu(self.conv2(x)))\n",
    "        x = self.pool(F.relu(self.conv3(x)))\n",
    "        x = x.view(-1, 32 * 9 * 9)\n",
    "        x = F.relu(self.fc1(x))\n",
    "        x = F.relu(self.fc2(x))\n",
    "        x = self.fc3(x)\n",
    "        \n",
    "        return x"
   ]
  },
  {
   "cell_type": "code",
   "execution_count": 66,
   "metadata": {},
   "outputs": [],
   "source": [
    "# Netzwerk instanziieren\n",
    "net = ConvNet()\n",
    "\n",
    "# Verlustfunktion\n",
    "criterion = nn.CrossEntropyLoss()\n",
    "\n",
    "# Optimierer\n",
    "# optimizer = optim.SGD(net.parameters(), lr=0.001, momentum=0.9)\n",
    "optimizer = optim.Adam(net.parameters(), lr=0.001)"
   ]
  },
  {
   "cell_type": "code",
   "execution_count": 67,
   "metadata": {},
   "outputs": [],
   "source": [
    "\"\"\"\n",
    "x = np.expand_dims(x, 1)      # if numpy array\n",
    "tensor = tensor.unsqueeze(1)  # if torch tensor\n",
    "\n",
    "Size without unsqueeze:\n",
    "got 2-dimensional input of size [32, 784] instead\n",
    "\n",
    "Size with unsqueeze:\n",
    "but got 3-dimensional input of size [32, 1, 784] instead\n",
    "\n",
    "Need:\n",
    "4-dimensional weight [6, 1, 5, 5]\n",
    "(n_samples, channels, height, width)\n",
    "\"\"\"\n",
    "#                (N_samples, channels(Graustufenbild), height, width)\n",
    "X_train = np.reshape(X_train, (-1, 1, 28, 28))\n",
    "X_test = np.reshape(X_test, (-1, 1, 28, 28))\n",
    "\n",
    "X_train_tensor = torch.from_numpy(X_train).float()#.unsqueeze(1)\n",
    "y_train_tensor = torch.from_numpy(y_train).long()#.unsqueeze(1)\n",
    "\n",
    "X_test_tensor = torch.from_numpy(X_test).float()#.unsqueeze(1)\n",
    "y_test_tensor = torch.from_numpy(y_test).long()#.unsqueeze(1)\n",
    "\n",
    "trainset = TensorDataset(X_train_tensor, y_train_tensor)\n",
    "trainloader = DataLoader(trainset, batch_size=32)\n",
    "\n",
    "testset = TensorDataset(X_test_tensor, y_test_tensor)\n",
    "testloader = DataLoader(testset, batch_size=1000)"
   ]
  },
  {
   "cell_type": "code",
   "execution_count": 68,
   "metadata": {},
   "outputs": [
    {
     "ename": "RuntimeError",
     "evalue": "shape '[-1, 2592]' is invalid for input of size 4096",
     "output_type": "error",
     "traceback": [
      "\u001b[1;31m---------------------------------------------------------------------------\u001b[0m",
      "\u001b[1;31mRuntimeError\u001b[0m                              Traceback (most recent call last)",
      "\u001b[1;32m<ipython-input-68-0c5370fd018b>\u001b[0m in \u001b[0;36m<module>\u001b[1;34m\u001b[0m\n\u001b[0;32m     12\u001b[0m         \u001b[1;31m# forward + backward + optimize\u001b[0m\u001b[1;33m\u001b[0m\u001b[1;33m\u001b[0m\u001b[1;33m\u001b[0m\u001b[0m\n\u001b[0;32m     13\u001b[0m         \u001b[1;31m# forward\u001b[0m\u001b[1;33m\u001b[0m\u001b[1;33m\u001b[0m\u001b[1;33m\u001b[0m\u001b[0m\n\u001b[1;32m---> 14\u001b[1;33m         \u001b[0moutputs\u001b[0m \u001b[1;33m=\u001b[0m \u001b[0mnet\u001b[0m\u001b[1;33m(\u001b[0m\u001b[0minputs\u001b[0m\u001b[1;33m)\u001b[0m\u001b[1;33m\u001b[0m\u001b[1;33m\u001b[0m\u001b[0m\n\u001b[0m\u001b[0;32m     15\u001b[0m         \u001b[1;31m# output = model(data[None, ...])\u001b[0m\u001b[1;33m\u001b[0m\u001b[1;33m\u001b[0m\u001b[1;33m\u001b[0m\u001b[0m\n\u001b[0;32m     16\u001b[0m         \u001b[0mloss\u001b[0m \u001b[1;33m=\u001b[0m \u001b[0mcriterion\u001b[0m\u001b[1;33m(\u001b[0m\u001b[0moutputs\u001b[0m\u001b[1;33m,\u001b[0m \u001b[0mlabels\u001b[0m\u001b[1;33m)\u001b[0m\u001b[1;33m\u001b[0m\u001b[1;33m\u001b[0m\u001b[0m\n",
      "\u001b[1;32m~\\Anaconda3\\lib\\site-packages\\torch\\nn\\modules\\module.py\u001b[0m in \u001b[0;36m_call_impl\u001b[1;34m(self, *input, **kwargs)\u001b[0m\n\u001b[0;32m    720\u001b[0m             \u001b[0mresult\u001b[0m \u001b[1;33m=\u001b[0m \u001b[0mself\u001b[0m\u001b[1;33m.\u001b[0m\u001b[0m_slow_forward\u001b[0m\u001b[1;33m(\u001b[0m\u001b[1;33m*\u001b[0m\u001b[0minput\u001b[0m\u001b[1;33m,\u001b[0m \u001b[1;33m**\u001b[0m\u001b[0mkwargs\u001b[0m\u001b[1;33m)\u001b[0m\u001b[1;33m\u001b[0m\u001b[1;33m\u001b[0m\u001b[0m\n\u001b[0;32m    721\u001b[0m         \u001b[1;32melse\u001b[0m\u001b[1;33m:\u001b[0m\u001b[1;33m\u001b[0m\u001b[1;33m\u001b[0m\u001b[0m\n\u001b[1;32m--> 722\u001b[1;33m             \u001b[0mresult\u001b[0m \u001b[1;33m=\u001b[0m \u001b[0mself\u001b[0m\u001b[1;33m.\u001b[0m\u001b[0mforward\u001b[0m\u001b[1;33m(\u001b[0m\u001b[1;33m*\u001b[0m\u001b[0minput\u001b[0m\u001b[1;33m,\u001b[0m \u001b[1;33m**\u001b[0m\u001b[0mkwargs\u001b[0m\u001b[1;33m)\u001b[0m\u001b[1;33m\u001b[0m\u001b[1;33m\u001b[0m\u001b[0m\n\u001b[0m\u001b[0;32m    723\u001b[0m         for hook in itertools.chain(\n\u001b[0;32m    724\u001b[0m                 \u001b[0m_global_forward_hooks\u001b[0m\u001b[1;33m.\u001b[0m\u001b[0mvalues\u001b[0m\u001b[1;33m(\u001b[0m\u001b[1;33m)\u001b[0m\u001b[1;33m,\u001b[0m\u001b[1;33m\u001b[0m\u001b[1;33m\u001b[0m\u001b[0m\n",
      "\u001b[1;32m<ipython-input-65-18968bbbe750>\u001b[0m in \u001b[0;36mforward\u001b[1;34m(self, x)\u001b[0m\n\u001b[0;32m     19\u001b[0m         \u001b[0mx\u001b[0m \u001b[1;33m=\u001b[0m \u001b[0mself\u001b[0m\u001b[1;33m.\u001b[0m\u001b[0mpool\u001b[0m\u001b[1;33m(\u001b[0m\u001b[0mF\u001b[0m\u001b[1;33m.\u001b[0m\u001b[0mrelu\u001b[0m\u001b[1;33m(\u001b[0m\u001b[0mself\u001b[0m\u001b[1;33m.\u001b[0m\u001b[0mconv2\u001b[0m\u001b[1;33m(\u001b[0m\u001b[0mx\u001b[0m\u001b[1;33m)\u001b[0m\u001b[1;33m)\u001b[0m\u001b[1;33m)\u001b[0m\u001b[1;33m\u001b[0m\u001b[1;33m\u001b[0m\u001b[0m\n\u001b[0;32m     20\u001b[0m         \u001b[0mx\u001b[0m \u001b[1;33m=\u001b[0m \u001b[0mself\u001b[0m\u001b[1;33m.\u001b[0m\u001b[0mpool\u001b[0m\u001b[1;33m(\u001b[0m\u001b[0mF\u001b[0m\u001b[1;33m.\u001b[0m\u001b[0mrelu\u001b[0m\u001b[1;33m(\u001b[0m\u001b[0mself\u001b[0m\u001b[1;33m.\u001b[0m\u001b[0mconv3\u001b[0m\u001b[1;33m(\u001b[0m\u001b[0mx\u001b[0m\u001b[1;33m)\u001b[0m\u001b[1;33m)\u001b[0m\u001b[1;33m)\u001b[0m\u001b[1;33m\u001b[0m\u001b[1;33m\u001b[0m\u001b[0m\n\u001b[1;32m---> 21\u001b[1;33m         \u001b[0mx\u001b[0m \u001b[1;33m=\u001b[0m \u001b[0mx\u001b[0m\u001b[1;33m.\u001b[0m\u001b[0mview\u001b[0m\u001b[1;33m(\u001b[0m\u001b[1;33m-\u001b[0m\u001b[1;36m1\u001b[0m\u001b[1;33m,\u001b[0m \u001b[1;36m32\u001b[0m \u001b[1;33m*\u001b[0m \u001b[1;36m9\u001b[0m \u001b[1;33m*\u001b[0m \u001b[1;36m9\u001b[0m\u001b[1;33m)\u001b[0m\u001b[1;33m\u001b[0m\u001b[1;33m\u001b[0m\u001b[0m\n\u001b[0m\u001b[0;32m     22\u001b[0m         \u001b[0mx\u001b[0m \u001b[1;33m=\u001b[0m \u001b[0mF\u001b[0m\u001b[1;33m.\u001b[0m\u001b[0mrelu\u001b[0m\u001b[1;33m(\u001b[0m\u001b[0mself\u001b[0m\u001b[1;33m.\u001b[0m\u001b[0mfc1\u001b[0m\u001b[1;33m(\u001b[0m\u001b[0mx\u001b[0m\u001b[1;33m)\u001b[0m\u001b[1;33m)\u001b[0m\u001b[1;33m\u001b[0m\u001b[1;33m\u001b[0m\u001b[0m\n\u001b[0;32m     23\u001b[0m         \u001b[0mx\u001b[0m \u001b[1;33m=\u001b[0m \u001b[0mF\u001b[0m\u001b[1;33m.\u001b[0m\u001b[0mrelu\u001b[0m\u001b[1;33m(\u001b[0m\u001b[0mself\u001b[0m\u001b[1;33m.\u001b[0m\u001b[0mfc2\u001b[0m\u001b[1;33m(\u001b[0m\u001b[0mx\u001b[0m\u001b[1;33m)\u001b[0m\u001b[1;33m)\u001b[0m\u001b[1;33m\u001b[0m\u001b[1;33m\u001b[0m\u001b[0m\n",
      "\u001b[1;31mRuntimeError\u001b[0m: shape '[-1, 2592]' is invalid for input of size 4096"
     ]
    }
   ],
   "source": [
    "for epoch in range(5):  # loop over the dataset multiple times\n",
    "\n",
    "    running_loss = 0.0\n",
    "\n",
    "    for i, batch in enumerate(trainloader, 0):\n",
    "        # get the inputs; data is a list of [inputs, labels]\n",
    "        inputs, labels = batch\n",
    "\n",
    "        # zero the parameter gradients\n",
    "        optimizer.zero_grad()\n",
    "\n",
    "        # forward + backward + optimize\n",
    "        # forward\n",
    "        outputs = net(inputs) \n",
    "        # output = model(data[None, ...]) \n",
    "        loss = criterion(outputs, labels)\n",
    "        \n",
    "        #backward\n",
    "        loss.backward()\n",
    "        # optimize\n",
    "        optimizer.step()\n",
    "\n",
    "        # print statistics\n",
    "        running_loss += loss.item()\n",
    "        if i % 100 == 99:    # print every 100 mini-batches\n",
    "            print('[%d, %5d] loss: %.3f' %\n",
    "                  (epoch + 1, i + 1, running_loss / 100))\n",
    "            running_loss = 0.0\n",
    "\n",
    "print('Finished Training')"
   ]
  },
  {
   "cell_type": "code",
   "execution_count": null,
   "metadata": {},
   "outputs": [],
   "source": [
    "correct = 0\n",
    "total = 0\n",
    "with torch.no_grad():\n",
    "    for data in testloader:\n",
    "        images, labels = data\n",
    "        outputs = net(images)\n",
    "        _, predicted = torch.max(outputs.data, 1)\n",
    "        total += labels.size(0)\n",
    "        correct += (predicted == labels).sum().item()\n",
    "\n",
    "print('Accuracy of the network on the 10000 test images: %d %%' % (\n",
    "    100 * correct / total))"
   ]
  }
 ],
 "metadata": {
  "kernelspec": {
   "display_name": "Python 3",
   "language": "python",
   "name": "python3"
  },
  "language_info": {
   "codemirror_mode": {
    "name": "ipython",
    "version": 3
   },
   "file_extension": ".py",
   "mimetype": "text/x-python",
   "name": "python",
   "nbconvert_exporter": "python",
   "pygments_lexer": "ipython3",
   "version": "3.7.9"
  },
  "toc": {
   "base_numbering": 1,
   "nav_menu": {},
   "number_sections": true,
   "sideBar": true,
   "skip_h1_title": false,
   "title_cell": "Table of Contents",
   "title_sidebar": "Contents",
   "toc_cell": false,
   "toc_position": {
    "height": "calc(100% - 180px)",
    "left": "10px",
    "top": "150px",
    "width": "384px"
   },
   "toc_section_display": true,
   "toc_window_display": true
  }
 },
 "nbformat": 4,
 "nbformat_minor": 2
}
